{
 "cells": [
  {
   "cell_type": "markdown",
   "id": "electronic-container",
   "metadata": {},
   "source": [
    "# Optimal Experimental Design for Conformer Search\n",
    "\n",
    "Conformers define the different structures with the same bonding graph but different coordinates. \n",
    "Finding the lowest-energy conformation is a common task in molecular modeling, and one that often requires significant time to solve.\n",
    "This practice problem is designed to explore the use of optimal experimental design techniques, which have [recently](https://jcheminf.biomedcentral.com/articles/10.1186/s13321-019-0354-7) [emerged](https://pubs.acs.org/doi/full/10.1021/acs.jctc.0c00648) as a potential tool for accelerating the conformer search.\n",
    "\n",
    "The goal of this notebooks it to walk through the full process of performing active learning:\n",
    "- [ ] Developing a design space and an initial training set\n",
    "- [ ] Creating a machine learning model that reflects the underlying physics\n",
    "- [ ] Writing the experimental design loop\n",
    "\n",
    "**HINT**: The answer to the cells I've left you to fill in the cell below. Double-click that cell to see that answer (the part inside the `<pre></pre>` block)"
   ]
  },
  {
   "cell_type": "code",
   "execution_count": 1,
   "id": "ruled-generation",
   "metadata": {},
   "outputs": [
    {
     "name": "stdout",
     "output_type": "stream",
     "text": [
      "The history saving thread hit an unexpected error (DatabaseError('database disk image is malformed')).History will not be written to the database.\n"
     ]
    }
   ],
   "source": [
    "%matplotlib inline\n",
    "from matplotlib import pyplot as plt\n",
    "from sklearn.gaussian_process import GaussianProcessRegressor, kernels\n",
    "from sklearn.metrics import mean_absolute_error\n",
    "from sklearn.model_selection import train_test_split\n",
    "from modAL.models import BayesianOptimizer\n",
    "from modAL.disagreement import max_std_sampling\n",
    "from modAL.acquisition import max_EI\n",
    "from torchani.models import ANI2x\n",
    "from scipy.optimize import minimize\n",
    "from tqdm import tqdm, trange\n",
    "import pickle as pkl\n",
    "import pandas as pd\n",
    "import numpy as np\n",
    "import warnings\n",
    "\n",
    "from confutils import get_initial_structure, evaluate_energy, relax_structure, detect_dihedrals, set_dihedrals"
   ]
  },
  {
   "cell_type": "markdown",
   "id": "sacred-collectible",
   "metadata": {},
   "source": [
    "## Problem Definition: Optimizing Cysteine\n",
    "Cysteine is a very simple molecule with 5 rotatable bonds. It is a simple science problem for finding the lowest-energy state\n",
    "\n",
    "<img src=\"https://pubs.acs.org/na101/home/literatum/publisher/achs/journals/content/jctcce/2021/jctcce.2021.17.issue-3/acs.jctc.0c00648/20210421/images/large/ct0c00648_0002.jpeg\" width=15%/>\n",
    "\n",
    "(Figure from [Fang et al. (2021)](https://pubs.acs.org/doi/full/10.1021/acs.jctc.0c00648))\n",
    "    "
   ]
  },
  {
   "cell_type": "markdown",
   "id": "blond-paint",
   "metadata": {},
   "source": [
    "First step is to make a model for the molecule that we can use to compute the energy"
   ]
  },
  {
   "cell_type": "code",
   "execution_count": 2,
   "id": "convinced-wonder",
   "metadata": {},
   "outputs": [
    {
     "data": {
      "image/svg+xml": [
       "<svg xmlns=\"http://www.w3.org/2000/svg\" font-family=\"sans-serif\" height=\"100\" stroke=\"rgb(0,0,0)\" stroke-linecap=\"round\" stroke-width=\"2\" viewBox=\"0 0 280 180\" width=\"100\" x=\"0\" y=\"0\">\n",
       "<line stroke=\"rgb(0,0,0)\" stroke-width=\"2.0\" x1=\"100.0\" x2=\"140.0\" y1=\"100.0\" y2=\"100.0\" />\n",
       "<polygon fill=\"rgb(0,0,0)\" points=\"140.000000 100.000000 144.000000 126.800000 136.000000 126.800000 \" stroke=\"rgb(0,0,0)\" stroke-width=\"2.000000\" />\n",
       "<line stroke=\"rgb(0,0,0)\" stroke-width=\"2.0\" x1=\"140.0\" x2=\"180.0\" y1=\"100.0\" y2=\"100.0\" />\n",
       "<line stroke=\"rgb(0,0,0)\" stroke-width=\"2.0\" x1=\"182.6\" x2=\"196.1\" y1=\"98.5\" y2=\"121.9\" />\n",
       "<line stroke=\"rgb(0,0,0)\" stroke-width=\"2.0\" x1=\"177.4\" x2=\"190.9\" y1=\"101.5\" y2=\"124.9\" />\n",
       "<line stroke=\"rgb(0,0,0)\" stroke-width=\"2.0\" x1=\"180.0\" x2=\"193.5\" y1=\"100.0\" y2=\"76.6\" />\n",
       "<line stroke=\"rgb(0,0,0)\" stroke-width=\"2.0\" x1=\"140.0\" x2=\"140.0\" y1=\"100.0\" y2=\"73.0\" />\n",
       "<line stroke=\"rgb(0,0,0)\" stroke-width=\"2.0\" x1=\"100.0\" x2=\"86.5\" y1=\"100.0\" y2=\"76.6\" />\n",
       "<line stroke=\"rgb(0,0,0)\" stroke-width=\"2.0\" x1=\"100.0\" x2=\"76.6\" y1=\"100.0\" y2=\"113.5\" />\n",
       "<line stroke=\"rgb(0,0,0)\" stroke-width=\"2.0\" x1=\"100.0\" x2=\"100.0\" y1=\"100.0\" y2=\"127.0\" />\n",
       "<line stroke=\"rgb(0,0,0)\" stroke-width=\"2.0\" x1=\"213.0\" x2=\"227.0\" y1=\"65.4\" y2=\"65.4\" />\n",
       "<line stroke=\"rgb(0,0,0)\" stroke-width=\"2.0\" x1=\"151.3\" x2=\"163.4\" y1=\"53.5\" y2=\"46.5\" />\n",
       "<line stroke=\"rgb(0,0,0)\" stroke-width=\"2.0\" x1=\"128.7\" x2=\"116.6\" y1=\"53.5\" y2=\"46.5\" />\n",
       "<line stroke=\"rgb(0,0,0)\" stroke-width=\"2.0\" x1=\"67.0\" x2=\"53.0\" y1=\"65.4\" y2=\"65.4\" />\n",
       "<text fill=\"rgb(191,191,191)\" font-size=\"16\" stroke=\"rgb(191,191,191)\" stroke-width=\"1\" x=\"134.000000\" y=\"148.000000\">H</text>\n",
       "<text fill=\"rgb(255,12,12)\" font-size=\"16\" stroke=\"rgb(255,12,12)\" stroke-width=\"1\" x=\"194.000000\" y=\"142.641016\">O</text>\n",
       "<text fill=\"rgb(255,12,12)\" font-size=\"16\" stroke=\"rgb(255,12,12)\" stroke-width=\"1\" x=\"194.000000\" y=\"73.358984\">O</text>\n",
       "<text fill=\"rgb(12,12,255)\" font-size=\"16\" stroke=\"rgb(12,12,255)\" stroke-width=\"1\" x=\"134.000000\" y=\"68.000000\">N</text>\n",
       "<text fill=\"rgb(178,178,0)\" font-size=\"16\" stroke=\"rgb(178,178,0)\" stroke-width=\"1\" x=\"74.000000\" y=\"73.358984\">S</text>\n",
       "<text fill=\"rgb(191,191,191)\" font-size=\"16\" stroke=\"rgb(191,191,191)\" stroke-width=\"1\" x=\"59.358984\" y=\"128.000000\">H</text>\n",
       "<text fill=\"rgb(191,191,191)\" font-size=\"16\" stroke=\"rgb(191,191,191)\" stroke-width=\"1\" x=\"94.000000\" y=\"148.000000\">H</text>\n",
       "<text fill=\"rgb(191,191,191)\" font-size=\"16\" stroke=\"rgb(191,191,191)\" stroke-width=\"1\" x=\"234.000000\" y=\"73.358984\">H</text>\n",
       "<text fill=\"rgb(191,191,191)\" font-size=\"16\" stroke=\"rgb(191,191,191)\" stroke-width=\"1\" x=\"168.641016\" y=\"48.000000\">H</text>\n",
       "<text fill=\"rgb(191,191,191)\" font-size=\"16\" stroke=\"rgb(191,191,191)\" stroke-width=\"1\" x=\"99.358984\" y=\"48.000000\">H</text>\n",
       "<text fill=\"rgb(191,191,191)\" font-size=\"16\" stroke=\"rgb(191,191,191)\" stroke-width=\"1\" x=\"34.000000\" y=\"73.358984\">H</text>\n",
       "</svg>\n"
      ],
      "text/plain": [
       "<pybel.Molecule at 0x7f28351eda90>"
      ]
     },
     "execution_count": 2,
     "metadata": {},
     "output_type": "execute_result"
    }
   ],
   "source": [
    "init_xyz, mol = get_initial_structure('C([C@@H](C(=O)O)N)S')  # Try with a more complicated molecule if you'd like!\n",
    "mol"
   ]
  },
  {
   "cell_type": "markdown",
   "id": "fewer-poetry",
   "metadata": {},
   "source": [
    "We use OpenBabel to generate an initial guess for the molecule structure and create a model for the molecule we can study to determine the dihedrals.\n",
    "\n",
    "We can study the bonding graph to locate the angles."
   ]
  },
  {
   "cell_type": "code",
   "execution_count": 3,
   "id": "adaptive-priority",
   "metadata": {},
   "outputs": [
    {
     "data": {
      "text/plain": [
       "[DihedralInfo(chain=[7, 0, 1, 3], group={1, 2, 3, 4, 5, 6, 10, 11, 12}, type='backbone'),\n",
       " DihedralInfo(chain=[1, 0, 7, 13], group={13, 7}, type='backbone'),\n",
       " DihedralInfo(chain=[0, 1, 3, 4], group={10, 3, 4, 5}, type='backbone'),\n",
       " DihedralInfo(chain=[0, 1, 6, 11], group={11, 12, 6}, type='backbone'),\n",
       " DihedralInfo(chain=[1, 3, 5, 10], group={10, 5}, type='backbone')]"
      ]
     },
     "execution_count": 3,
     "metadata": {},
     "output_type": "execute_result"
    }
   ],
   "source": [
    "dihedrals = detect_dihedrals(mol)\n",
    "dihedrals"
   ]
  },
  {
   "cell_type": "markdown",
   "id": "elementary-mattress",
   "metadata": {},
   "source": [
    "Now that we know these angles, we relax the structure and measure them to get an initial guess.\n",
    "\n",
    "*Note*: We use [TorchANI](https://aiqm.github.io/torchani/index.html) to compute the energy of a structure using a machine-learned interatomic potential."
   ]
  },
  {
   "cell_type": "code",
   "execution_count": 4,
   "id": "sensitive-camping",
   "metadata": {},
   "outputs": [
    {
     "name": "stdout",
     "output_type": "stream",
     "text": [
      "Downloading ANI model parameters ...\n"
     ]
    }
   ],
   "source": [
    "calc = ANI2x().ase()  # Get a ASE-compatable model using TorchANI"
   ]
  },
  {
   "cell_type": "code",
   "execution_count": 5,
   "id": "organized-pound",
   "metadata": {},
   "outputs": [
    {
     "name": "stdout",
     "output_type": "stream",
     "text": [
      "CPU times: user 46.9 s, sys: 21.5 s, total: 1min 8s\n",
      "Wall time: 23.4 s\n"
     ]
    }
   ],
   "source": [
    "%%time\n",
    "init_energy, init_xyz = relax_structure(init_xyz, calc)  # Use it to determine a ground-state"
   ]
  },
  {
   "cell_type": "code",
   "execution_count": 6,
   "id": "ignored-hampshire",
   "metadata": {},
   "outputs": [],
   "source": [
    "init_angles = np.array([di.get_angle(init_xyz) for di in dihedrals])"
   ]
  },
  {
   "cell_type": "code",
   "execution_count": 7,
   "id": "supposed-liverpool",
   "metadata": {},
   "outputs": [
    {
     "name": "stdout",
     "output_type": "stream",
     "text": [
      "Initial guess [ 67.59222131 265.99448511 102.33646811  34.67320393   6.54270865] = -19641.708384382684 eV\n"
     ]
    }
   ],
   "source": [
    "print(f'Initial guess {init_angles} = {init_energy} eV')"
   ]
  },
  {
   "cell_type": "markdown",
   "id": "becoming-nelson",
   "metadata": {},
   "source": [
    "We now have a function we can optimize!"
   ]
  },
  {
   "cell_type": "markdown",
   "id": "transparent-theater",
   "metadata": {},
   "source": [
    "## Step 1: Get some initial data\n",
    "Our first step is to get enough data to start optimizing the molecule.\n",
    "\n",
    "As we discussed in lecture, there are many ways to go about it: \n",
    "\n",
    "- [ ] Random selection! Hint: use [`np.random.uniform`](https://numpy.org/doc/stable/reference/random/generated/numpy.random.uniform.html)\n",
    "- [ ] Latin Hypercube! Hint: Use https://spacefillingdesigns.nl/\n",
    "\n",
    "Create a set of 4 points using random selection and save them as an array named `start_angles`."
   ]
  },
  {
   "cell_type": "code",
   "execution_count": 8,
   "id": "environmental-junior",
   "metadata": {},
   "outputs": [],
   "source": []
  },
  {
   "cell_type": "markdown",
   "id": "verbal-plant",
   "metadata": {},
   "source": [
    "<pre style=\"color: white;\">\n",
    "start_angles = np.random.uniform(0, 360, size=(8, len(dihedrals)))\n",
    "</pre>"
   ]
  },
  {
   "cell_type": "markdown",
   "id": "hourly-tension",
   "metadata": {},
   "source": [
    "Compute their energies"
   ]
  },
  {
   "cell_type": "code",
   "execution_count": 9,
   "id": "royal-procurement",
   "metadata": {},
   "outputs": [
    {
     "name": "stderr",
     "output_type": "stream",
     "text": [
      "100%|██████████| 4/4 [01:00<00:00, 15.23s/it]\n"
     ]
    }
   ],
   "source": [
    "start_energies = np.array([evaluate_energy(a, init_xyz, dihedrals, calc) - init_energy for a in tqdm(start_angles)])"
   ]
  },
  {
   "cell_type": "markdown",
   "id": "intimate-upper",
   "metadata": {},
   "source": [
    "## Step 2: Learning a Surrogate Model\n",
    "We need a model that we can train and evaluate quickly. Ideally, this model should give us uncertainties of their predictions.\n",
    "For that choice, we use [Gaussian Process Regression](https://scikit-learn.org/stable/modules/gaussian_process.html) with a special choice of \"kernel\" to work best with angles as inputs.\n",
    "\n",
    "Following [Fang et al. (2021)](https://pubs.acs.org/doi/full/10.1021/acs.jctc.0c00648), we use a \"elementwise exponential sine kernel\" that captures the idea that angles are periodic (e.g., 0 and 360 degrees ar ethe same. The following code shows how we implement it in Scikit-Learn."
   ]
  },
  {
   "cell_type": "code",
   "execution_count": 10,
   "id": "understanding-barcelona",
   "metadata": {},
   "outputs": [],
   "source": [
    "def elementwise_expsine_kernel(x, y, gamma=1, p=360):\n",
    "    \"\"\"Compute the expoonential sine kernel\n",
    "    \n",
    "    Args:\n",
    "        x, y: Coordinates to be compared\n",
    "        gamma: Length scale of the kernel\n",
    "        p: Periodicity of the kernel\n",
    "    Returns:\n",
    "        Kernel metric\n",
    "    \"\"\"\n",
    "    \n",
    "    # Compute the distances between the two points\n",
    "    dists = np.subtract(x, y)\n",
    "    \n",
    "    # Compute the sine with a periodicity of p\n",
    "    sine_dists = np.sin(np.pi * dists / p)\n",
    "    \n",
    "    # Return exponential of the squared kernel\n",
    "    return np.sum(np.exp(-2 * np.power(sine_dists, 2) / gamma ** 2), axis=-1)"
   ]
  },
  {
   "cell_type": "code",
   "execution_count": 11,
   "id": "fourth-patrol",
   "metadata": {},
   "outputs": [],
   "source": [
    "gpr = GaussianProcessRegressor(\n",
    "    kernel=kernels.PairwiseKernel(metric=elementwise_expsine_kernel),\n",
    "    n_restarts_optimizer=4, \n",
    ")"
   ]
  },
  {
   "cell_type": "markdown",
   "id": "transsexual-grocery",
   "metadata": {},
   "source": [
    "To illustrate it, let's generate some data where we vary an angle from 0 to 360 degrees"
   ]
  },
  {
   "cell_type": "code",
   "execution_count": 12,
   "id": "cognitive-advocate",
   "metadata": {},
   "outputs": [],
   "source": [
    "train_X = np.repeat(init_angles[None, :], 32, axis=0)  # Make a copy of the initial angles"
   ]
  },
  {
   "cell_type": "code",
   "execution_count": 13,
   "id": "focal-cedar",
   "metadata": {},
   "outputs": [],
   "source": [
    "train_X[:, 0] = np.linspace(0, 360, 32)  # Set the first angle to equally-spaced values between 0 and 360 (inclusive)"
   ]
  },
  {
   "cell_type": "code",
   "execution_count": 14,
   "id": "modular-actor",
   "metadata": {},
   "outputs": [
    {
     "name": "stderr",
     "output_type": "stream",
     "text": [
      "100%|██████████| 32/32 [00:01<00:00, 16.47it/s]\n"
     ]
    }
   ],
   "source": [
    "train_y = np.array([evaluate_energy(a, init_xyz, dihedrals, calc, relax=False) - init_energy for a in tqdm(train_X)])"
   ]
  },
  {
   "cell_type": "markdown",
   "id": "talented-blackberry",
   "metadata": {},
   "source": [
    "Now, let's fit a model"
   ]
  },
  {
   "cell_type": "code",
   "execution_count": 15,
   "id": "personal-passport",
   "metadata": {},
   "outputs": [],
   "source": [
    "subset_X, _, subset_y, _ = train_test_split(train_X, train_y, train_size=4)"
   ]
  },
  {
   "cell_type": "code",
   "execution_count": 16,
   "id": "balanced-appeal",
   "metadata": {},
   "outputs": [
    {
     "name": "stderr",
     "output_type": "stream",
     "text": [
      "/home/wardlt/miniconda3/envs/oed/lib/python3.7/site-packages/sklearn/gaussian_process/_gpr.py:504: ConvergenceWarning: lbfgs failed to converge (status=2):\n",
      "ABNORMAL_TERMINATION_IN_LNSRCH.\n",
      "\n",
      "Increase the number of iterations (max_iter) or scale the data as shown in:\n",
      "    https://scikit-learn.org/stable/modules/preprocessing.html\n",
      "  _check_optimize_result(\"lbfgs\", opt_res)\n"
     ]
    },
    {
     "data": {
      "text/plain": [
       "GaussianProcessRegressor(kernel=PairwiseKernel(gamma=1.0, metric=<function elementwise_expsine_kernel at 0x7f27aabaef80>),\n",
       "                         n_restarts_optimizer=4)"
      ]
     },
     "execution_count": 16,
     "metadata": {},
     "output_type": "execute_result"
    }
   ],
   "source": [
    "gpr.fit(subset_X, subset_y)"
   ]
  },
  {
   "cell_type": "code",
   "execution_count": 17,
   "id": "interesting-destination",
   "metadata": {},
   "outputs": [
    {
     "data": {
      "text/plain": [
       "PairwiseKernel(gamma=2.295154715763329, metric=<function elementwise_expsine_kernel at 0x7f27aabaef80>)"
      ]
     },
     "execution_count": 17,
     "metadata": {},
     "output_type": "execute_result"
    }
   ],
   "source": [
    "gpr.kernel_"
   ]
  },
  {
   "cell_type": "markdown",
   "id": "overall-peter",
   "metadata": {},
   "source": [
    "Create a Gaussian process model using a Radial Basis Function kernel"
   ]
  },
  {
   "cell_type": "code",
   "execution_count": null,
   "id": "ahead-child",
   "metadata": {},
   "outputs": [],
   "source": []
  },
  {
   "cell_type": "markdown",
   "id": "scheduled-wonder",
   "metadata": {},
   "source": [
    "<pre style='color: white;'>\n",
    "gpr_rbf = GaussianProcessRegressor(kernel=kernels.RBF(), n_restarts_optimizer=16)\n",
    "gpr_rbf.fit(subset_X, subset_y)\n",
    "</pre>"
   ]
  },
  {
   "cell_type": "markdown",
   "id": "exciting-ideal",
   "metadata": {},
   "source": [
    "Plot the results"
   ]
  },
  {
   "cell_type": "code",
   "execution_count": 19,
   "id": "overall-beads",
   "metadata": {},
   "outputs": [
    {
     "data": {
      "text/plain": [
       "Text(0, 0.5, '$\\\\Delta E$')"
      ]
     },
     "execution_count": 19,
     "metadata": {},
     "output_type": "execute_result"
    },
    {
     "data": {
      "image/png": "[encoded data removed]",
      "text/plain": [
       "<Figure size 468x180 with 2 Axes>"
      ]
     },
     "metadata": {
      "needs_background": "light"
     },
     "output_type": "display_data"
    }
   ],
   "source": [
    "fig, axs = plt.subplots(1, 2, figsize=(6.5, 2.5), sharey=True)\n",
    "\n",
    "for ax, m, l in zip(axs, [gpr, gpr_rbf], ['Sine', 'RBF']):\n",
    "    y_pred, y_std = m.predict(train_X, return_std=True)\n",
    "    ax.plot(train_X[:, 0], y_pred)\n",
    "    ax.fill_between(train_X[:, 0], y_pred + y_std, y_pred - y_std, alpha=0.5)\n",
    "\n",
    "    ax.plot(train_X[:, 0], train_y, 'k--o')\n",
    "    ax.plot(subset_X[:, 0], subset_y, 'ro')\n",
    "    \n",
    "    ax.set_title(f'{l} Kernel')\n",
    "\n",
    "    ax.set_xlabel('$\\\\phi$')\n",
    "    ax.set_xlim(0, 360)\n",
    "axs[0].set_ylabel('$\\Delta E$')"
   ]
  },
  {
   "cell_type": "markdown",
   "id": "chronic-venezuela",
   "metadata": {},
   "source": [
    "Note how the \"sine kernel\" has a function that obeys periodicity while the RBF kernel does not"
   ]
  },
  {
   "cell_type": "markdown",
   "id": "significant-stream",
   "metadata": {},
   "source": [
    "### Step 3: Define a search space\n",
    "The last ingredentient is to define a search space. The search space defines which new points we will consider at each step to \n",
    "For our purposes, let's just enumerate a large grid of spaces. \n",
    "\n",
    "*Advanced note*: Enumerating a large search space and evaluating every point is a brute force method for solving a global optimization problem. We can get away with it for this tutorial because our models are fast. However, more advanced toolkits (e.g., [BOTorch](https://botorch.org/docs/optimization)) use better strategies (e.g., multi-start derivative free optimizers)."
   ]
  },
  {
   "cell_type": "code",
   "execution_count": 20,
   "id": "informational-digest",
   "metadata": {},
   "outputs": [],
   "source": [
    "grid_size = 6 # Number of points along each axis (avoid making it more than 10)"
   ]
  },
  {
   "cell_type": "code",
   "execution_count": 21,
   "id": "fantastic-seating",
   "metadata": {},
   "outputs": [],
   "source": [
    "# Makes a grid with as many axes as our dihedral angles\n",
    "grids = np.meshgrid(*[np.linspace(0, 360, grid_size)]*len(dihedrals))"
   ]
  },
  {
   "cell_type": "code",
   "execution_count": 22,
   "id": "sacred-discount",
   "metadata": {},
   "outputs": [
    {
     "name": "stdout",
     "output_type": "stream",
     "text": [
      "Generated 7776 points\n"
     ]
    }
   ],
   "source": [
    "search_points = np.array(list(zip(*[x.flatten() for x in grids])))\n",
    "print(f'Generated {len(search_points)} points')"
   ]
  },
  {
   "cell_type": "markdown",
   "id": "global-register",
   "metadata": {},
   "source": [
    "Measure how long it takes to evaluate the full space"
   ]
  },
  {
   "cell_type": "code",
   "execution_count": 23,
   "id": "adolescent-laptop",
   "metadata": {},
   "outputs": [
    {
     "name": "stdout",
     "output_type": "stream",
     "text": [
      "CPU times: user 2.86 s, sys: 88.7 ms, total: 2.95 s\n",
      "Wall time: 2.75 s\n"
     ]
    }
   ],
   "source": [
    "%%time\n",
    "y_pred, y_std = gpr.predict(search_points, return_std=True)"
   ]
  },
  {
   "cell_type": "markdown",
   "id": "economic-translator",
   "metadata": {},
   "source": [
    "## Step 4: Define the optimizer\n",
    "We now need to define the optimizer to use. We are going to use modAL again. \n",
    "\n",
    "Follow [the modAL tutorial](https://modal-python.readthedocs.io/en/latest/content/examples/bayesian_optimization.html) to define an optimizer that uses our `gpr` model we created earlier as the estimator, \n",
    "`start_angles` and `-1 * start_energies` as the initial training points,\n",
    "and `max_EI` as the query strategy"
   ]
  },
  {
   "cell_type": "code",
   "execution_count": 24,
   "id": "talented-finnish",
   "metadata": {},
   "outputs": [],
   "source": []
  },
  {
   "cell_type": "markdown",
   "id": "cardiovascular-intent",
   "metadata": {},
   "source": [
    "<pre style='color: white;'>\n",
    "optimizer = BayesianOptimizer(\n",
    "    estimator=gpr,\n",
    "    X_training=start_angles,\n",
    "    y_training=-1 * start_energies,\n",
    "    query_strategy=max_EI\n",
    ")\n",
    "</pre>"
   ]
  },
  {
   "cell_type": "markdown",
   "id": "mighty-fiction",
   "metadata": {},
   "source": [
    "Fill in the experimental design loop."
   ]
  },
  {
   "cell_type": "code",
   "execution_count": 25,
   "id": "martial-johnson",
   "metadata": {},
   "outputs": [
    {
     "name": "stderr",
     "output_type": "stream",
     "text": [
      "Last: -0.03 eV - Best: -0.03 eV: 100%|██████████| 32/32 [12:57<00:00, 24.29s/it]\n"
     ]
    }
   ],
   "source": [
    "t = trange(32, desc=f'Best: {-optimizer.y_max:.2f} eV', leave=True)\n",
    "for step in t:\n",
    "    # Pick the best point to add to the dataet\n",
    "    with warnings.catch_warnings():\n",
    "        warnings.simplefilter('ignore')\n",
    "        # Line 1\n",
    "    \n",
    "    # Compute the energies of those points\n",
    "    best_energies = [\n",
    "        init_energy - evaluate_energy(x, init_xyz, dihedrals, calc) for x in best_coords\n",
    "    ]\n",
    "    \n",
    "    # Remove those points from the search space\n",
    "    search_points = np.delete(search_points, best_point, axis=0)\n",
    "    \n",
    "    # Update the model\n",
    "    with warnings.catch_warnings():\n",
    "        warnings.simplefilter('ignore')\n",
    "        # Line 2\n",
    "        \n",
    "    # Update the description\n",
    "    t.set_description(f'Last: {-best_energies[0]:.2f} eV - Best: {-optimizer.y_max:.2f} eV')"
   ]
  },
  {
   "cell_type": "markdown",
   "id": "a2f7fdb3-e998-479b-8d4b-9281ec121eff",
   "metadata": {},
   "source": [
    "<pre style='color: white;'>\n",
    "best_point, best_coords = optimizer.query(search_points)  # First line\n",
    "optimizer.teach(best_coords, best_energies)  # Second line\n",
    "</pre>"
   ]
  },
  {
   "cell_type": "markdown",
   "id": "stupid-excitement",
   "metadata": {},
   "source": [
    "Now that we have answer, find the nearest local minimum"
   ]
  },
  {
   "cell_type": "code",
   "execution_count": 26,
   "id": "copyrighted-cancellation",
   "metadata": {},
   "outputs": [
    {
     "name": "stdout",
     "output_type": "stream",
     "text": [
      "Best solution pre-relaxation [ 72. 288.   0. 288. 216.]. DeltaE = -0.03134207865878125 eV\n"
     ]
    }
   ],
   "source": [
    "print(f'Best solution pre-relaxation {optimizer.X_max}. DeltaE = {-optimizer.y_max} eV')"
   ]
  },
  {
   "cell_type": "code",
   "execution_count": 27,
   "id": "thousand-chorus",
   "metadata": {},
   "outputs": [],
   "source": [
    "final_xyz = set_dihedrals(init_xyz, optimizer.X_max, dihedrals)  # Set the angles to the best guess\n",
    "final_energy, final_xyz = relax_structure(final_xyz, calc)  # Allow them all to relax"
   ]
  },
  {
   "cell_type": "code",
   "execution_count": 28,
   "id": "olive-friendship",
   "metadata": {},
   "outputs": [
    {
     "name": "stdout",
     "output_type": "stream",
     "text": [
      "Best solution: [ 74.36176358 290.98849353 344.09062158 290.96647503 179.19214687]. DeltaE = -0.2321299056893622 eV\n"
     ]
    }
   ],
   "source": [
    "final_X = np.array([di.get_angle(final_xyz) for di in dihedrals])\n",
    "print(f'Best solution: {final_X}. DeltaE = {final_energy - init_energy} eV')"
   ]
  },
  {
   "cell_type": "markdown",
   "id": "bronze-bacon",
   "metadata": {},
   "source": [
    "Plot the optimizer performance"
   ]
  },
  {
   "cell_type": "code",
   "execution_count": 29,
   "id": "sufficient-roller",
   "metadata": {},
   "outputs": [
    {
     "data": {
      "text/plain": [
       "Text(0, 0.5, 'Energy - Initial Energy (Ha)')"
      ]
     },
     "execution_count": 29,
     "metadata": {},
     "output_type": "execute_result"
    },
    {
     "data": {
      "image/png": "[encoded data removed]",
      "text/plain": [
       "<Figure size 432x288 with 1 Axes>"
      ]
     },
     "metadata": {
      "needs_background": "light"
     },
     "output_type": "display_data"
    }
   ],
   "source": [
    "fig, ax = plt.subplots()\n",
    "\n",
    "ax.plot(-optimizer.y_training, 'o', label='Guess')\n",
    "ax.step(\n",
    "    range(len(optimizer.y_training)), \n",
    "    np.minimum.accumulate(-optimizer.y_training),\n",
    "    'k--',\n",
    "    label='Cumulative Best'\n",
    ")\n",
    "\n",
    "\n",
    "ax.set_xlim(ax.get_xlim())\n",
    "ax.plot(ax.get_xlim(), [final_energy - init_energy]*2, 'r:', label='After Relax')\n",
    "\n",
    "ax.set_xlabel('Step')\n",
    "ax.set_ylabel('Energy - Initial Energy (Ha)')"
   ]
  },
  {
   "cell_type": "markdown",
   "id": "mental-business",
   "metadata": {},
   "source": [
    "It takes about 8 steps to find better candidates than OpenBabel and 20 to reach a probable global minimum."
   ]
  },
  {
   "cell_type": "markdown",
   "id": "9d25d159-33f4-4196-9bde-ec7b7e5ecf99",
   "metadata": {},
   "source": [
    "You should have experienced:\n",
    "- Creating an initial training set and machine learning model\n",
    "- Defining an active learning policy with modAL\n",
    "- Running an interative experimental design loop\n",
    "\n",
    "If you would like to learn more, try making changes to each of these policies:\n",
    "- Change the initial training set by adding more points or making them non-random\n",
    "- Use a different acquisition function\n",
    "- Pick more than one simulation during each iteration, or relax the dihedral angle and adding both the initial/relaxed structures"
   ]
  },
  {
   "cell_type": "code",
   "execution_count": null,
   "id": "45be7628-00f9-4149-b230-300ab6336493",
   "metadata": {},
   "outputs": [],
   "source": []
  }
 ],
 "metadata": {
  "kernelspec": {
   "display_name": "Python 3",
   "language": "python",
   "name": "python3"
  },
  "language_info": {
   "codemirror_mode": {
    "name": "ipython",
    "version": 3
   },
   "file_extension": ".py",
   "mimetype": "text/x-python",
   "name": "python",
   "nbconvert_exporter": "python",
   "pygments_lexer": "ipython3",
   "version": "3.7.10"
  }
 },
 "nbformat": 4,
 "nbformat_minor": 5
}
