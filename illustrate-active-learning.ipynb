{
 "cells": [
  {
   "cell_type": "markdown",
   "id": "substantial-procurement",
   "metadata": {},
   "source": [
    "# Active Learning over Molecular Space\n",
    "This notebook is going to show how to perform active learning to find molecules with large bandgaps.\n",
    "We are going to use the [modAL](https://modal-python.readthedocs.io/en/latest/index.html) library to demonstrate a few different active learning algorithms"
   ]
  },
  {
   "cell_type": "code",
   "execution_count": 1,
   "id": "varying-breathing",
   "metadata": {},
   "outputs": [],
   "source": [
    "%matplotlib inline\n",
    "from matplotlib import pyplot as plt\n",
    "from sklearn.ensemble import BaggingRegressor\n",
    "from sklearn.model_selection import train_test_split\n",
    "from sklearn.neighbors import KNeighborsRegressor\n",
    "from sklearn.base import BaseEstimator\n",
    "from sklearn.pipeline import Pipeline\n",
    "from modAL.models import CommitteeRegressor\n",
    "from modAL.acquisition import max_UCB\n",
    "from rdkit.Chem import AllChem, DataStructs\n",
    "from rdkit import Chem\n",
    "from tqdm import tqdm\n",
    "import pandas as pd\n",
    "import numpy as np"
   ]
  },
  {
   "cell_type": "markdown",
   "id": "remarkable-native",
   "metadata": {},
   "source": [
    "## Load Example Data\n",
    "Get the QM9 dataset from our molecular property prediction exercises."
   ]
  },
  {
   "cell_type": "code",
   "execution_count": 2,
   "id": "declared-overall",
   "metadata": {},
   "outputs": [
    {
     "name": "stdout",
     "output_type": "stream",
     "text": [
      "Loaded 25000 molecules\n"
     ]
    }
   ],
   "source": [
    "data = pd.read_json('data/qm9.json.gz', lines=True)\n",
    "print(f'Loaded {len(data)} molecules')"
   ]
  },
  {
   "cell_type": "markdown",
   "id": "universal-mathematics",
   "metadata": {},
   "source": [
    "Split off some molecules to use as our initial dataset and search space"
   ]
  },
  {
   "cell_type": "code",
   "execution_count": 3,
   "id": "architectural-portsmouth",
   "metadata": {},
   "outputs": [],
   "source": [
    "seed_data, search_data = train_test_split(data, train_size=8, test_size=2000)"
   ]
  },
  {
   "cell_type": "markdown",
   "id": "manual-tobacco",
   "metadata": {},
   "source": [
    "## Build the Tools Needed for Active Learning\n",
    "We first need to create a model to learn from the data we have already collected and an \"oracle\" that we provide the properties for a molecule on request.\n",
    "\n",
    "### Building a KNN Model\n",
    "We are going to use a simple KNN model based on the fingerprints of a molecule (see the [Chemoinformatics tutorials](https://github.com/WardLT/applied-ai-for-materials/tree/main/molecular-property-prediction))."
   ]
  },
  {
   "cell_type": "code",
   "execution_count": 4,
   "id": "conservative-error",
   "metadata": {},
   "outputs": [],
   "source": [
    "def compute_morgan_fingerprints(smiles: str, fingerprint_length: int, fingerprint_radius: int):\n",
    "    \"\"\"Get Morgan Fingerprint of a specific SMILES string.\n",
    "    Adapted from: <https://github.com/google-research/google-research/blob/\n",
    "    dfac4178ccf521e8d6eae45f7b0a33a6a5b691ee/mol_dqn/chemgraph/dqn/deep_q_networks.py#L750>\n",
    "    Args:\n",
    "      graph (str): The molecule as a SMILES string\n",
    "      fingerprint_length (int): Bit-length of fingerprint\n",
    "      fingerprint_radius (int): Radius used to compute fingerprint\n",
    "    Returns:\n",
    "      np.array. shape = [hparams, fingerprint_length]. The Morgan fingerprint.\n",
    "    \"\"\"\n",
    "    # Parse the molecule\n",
    "    molecule = Chem.MolFromSmiles(smiles)\n",
    "\n",
    "    # Compute the fingerprint\n",
    "    fingerprint = AllChem.GetMorganFingerprintAsBitVect(\n",
    "        molecule, fingerprint_radius, fingerprint_length)\n",
    "    arr = np.zeros((1,), dtype=np.bool)\n",
    "\n",
    "    # ConvertToNumpyArray takes ~ 0.19 ms, while\n",
    "    # np.asarray takes ~ 4.69 ms\n",
    "    DataStructs.ConvertToNumpyArray(fingerprint, arr)\n",
    "    return arr\n",
    "\n",
    "\n",
    "class MorganFingerprintTransformer(BaseEstimator):\n",
    "    \"\"\"Class that converts SMILES strings to fingerprint vectors\"\"\"\n",
    "    \n",
    "    def __init__(self, length: int = 256, radius: int = 4):\n",
    "        self.length = length\n",
    "        self.radius = radius\n",
    "    \n",
    "    def fit(self, X, y=None):\n",
    "        return self  # Do need to do anything\n",
    "    \n",
    "    def transform(self, X, y=None):\n",
    "        \"\"\"Compute the fingerprints\n",
    "        \n",
    "        Args:\n",
    "            X: List of SMILES strings\n",
    "        Returns:\n",
    "            Array of fingerprints\n",
    "        \"\"\"\n",
    "        fing = [compute_morgan_fingerprints(m, self.length, self.radius) for m in np.squeeze(X)]\n",
    "        return np.vstack(fing)"
   ]
  },
  {
   "cell_type": "code",
   "execution_count": 5,
   "id": "parliamentary-knife",
   "metadata": {},
   "outputs": [],
   "source": [
    "model = Pipeline([\n",
    "    ('fp', MorganFingerprintTransformer()),\n",
    "    ('model', KNeighborsRegressor(metric='jaccard', n_jobs=-1))  # Uses the Tanimoto similarity metric\n",
    "])"
   ]
  },
  {
   "cell_type": "code",
   "execution_count": 6,
   "id": "timely-raleigh",
   "metadata": {},
   "outputs": [
    {
     "data": {
      "text/plain": [
       "Pipeline(steps=[('fp', MorganFingerprintTransformer()),\n",
       "                ('model', KNeighborsRegressor(metric='jaccard', n_jobs=-1))])"
      ]
     },
     "execution_count": 6,
     "metadata": {},
     "output_type": "execute_result"
    }
   ],
   "source": [
    "model.fit(seed_data['smiles_0'].values[:, None], seed_data['bandgap'])"
   ]
  },
  {
   "cell_type": "markdown",
   "id": "steady-rough",
   "metadata": {},
   "source": [
    "We can use [bootstrap aggregation (bagging)](https://en.wikipedia.org/wiki/Bootstrap_aggregating) to get an estimate of the uncertainty of this model by first training an ensemble of models using sklearn's [BaggingRegressor](https://scikit-learn.org/stable/modules/generated/sklearn.ensemble.BaggingRegressor.html) and then assessing the variance of the models. \n",
    "\n",
    "*NOTE*: Bagging, in short, works by training each model on a different subset of the data."
   ]
  },
  {
   "cell_type": "code",
   "execution_count": 7,
   "id": "broadband-daughter",
   "metadata": {},
   "outputs": [],
   "source": [
    "model = BaggingRegressor(model, n_estimators=8)"
   ]
  },
  {
   "cell_type": "code",
   "execution_count": 8,
   "id": "iraqi-bidding",
   "metadata": {},
   "outputs": [
    {
     "data": {
      "text/plain": [
       "BaggingRegressor(base_estimator=Pipeline(steps=[('fp',\n",
       "                                                 MorganFingerprintTransformer()),\n",
       "                                                ('model',\n",
       "                                                 KNeighborsRegressor(metric='jaccard',\n",
       "                                                                     n_jobs=-1))]),\n",
       "                 n_estimators=8)"
      ]
     },
     "execution_count": 8,
     "metadata": {},
     "output_type": "execute_result"
    }
   ],
   "source": [
    "model.fit(seed_data['smiles_0'].values[:, None], seed_data['bandgap'])"
   ]
  },
  {
   "cell_type": "code",
   "execution_count": 9,
   "id": "permanent-advantage",
   "metadata": {},
   "outputs": [],
   "source": [
    "committee = CommitteeRegressor(model.estimators_)"
   ]
  },
  {
   "cell_type": "code",
   "execution_count": 10,
   "id": "established-palestine",
   "metadata": {},
   "outputs": [],
   "source": [
    "y_pred, y_std = committee.predict(search_data['smiles_0'], return_std=True)"
   ]
  },
  {
   "cell_type": "markdown",
   "id": "practical-petroleum",
   "metadata": {},
   "source": [
    "Plot the results"
   ]
  },
  {
   "cell_type": "code",
   "execution_count": 11,
   "id": "proud-effects",
   "metadata": {},
   "outputs": [
    {
     "data": {
      "text/plain": [
       "[<matplotlib.lines.Line2D at 0x7fc9ce4d5890>]"
      ]
     },
     "execution_count": 11,
     "metadata": {},
     "output_type": "execute_result"
    },
    {
     "data": {
      "image/png": "[encoded data removed]",
      "text/plain": [
       "<Figure size 432x288 with 1 Axes>"
      ]
     },
     "metadata": {
      "needs_background": "light"
     },
     "output_type": "display_data"
    }
   ],
   "source": [
    "fig, ax = plt.subplots()\n",
    "\n",
    "ax.errorbar(search_data['bandgap'], y_pred, fmt='o', yerr=y_std, alpha=0.5)\n",
    "\n",
    "ax.set_xlim(ax.get_xlim())\n",
    "ax.set_ylim(ax.get_xlim())\n",
    "\n",
    "ax.plot(ax.get_xlim(), ax.get_xlim(), 'k--')"
   ]
  },
  {
   "cell_type": "markdown",
   "id": "third-behalf",
   "metadata": {},
   "source": [
    "It is not a great model, but it at least gives us a starting place that is a little better than random"
   ]
  },
  {
   "cell_type": "markdown",
   "id": "departmental-plane",
   "metadata": {},
   "source": [
    "### Create the Oracle\n",
    "The \"oracle\" in active learning is the tool used to gather properties for a certain data point. \n",
    "We are going to make one that is just a lookup table"
   ]
  },
  {
   "cell_type": "code",
   "execution_count": 12,
   "id": "about-deputy",
   "metadata": {},
   "outputs": [],
   "source": [
    "lookup_table = dict(zip(data['smiles_0'], data['bandgap']))  # Makes a dictionary with key as a SMILES and value as a bandgap"
   ]
  },
  {
   "cell_type": "code",
   "execution_count": 13,
   "id": "related-consumer",
   "metadata": {},
   "outputs": [],
   "source": [
    "def get_bandgap(smiles: str):\n",
    "    \"\"\"Lookup the bandgap of a model from a table\n",
    "    \n",
    "    Args:\n",
    "        smiles: SMILES string of a molecule\n",
    "    Returns:\n",
    "        (float) A bandgap energy\n",
    "    \"\"\"\n",
    "    return lookup_table[smiles]"
   ]
  },
  {
   "cell_type": "code",
   "execution_count": 14,
   "id": "geological-import",
   "metadata": {},
   "outputs": [
    {
     "data": {
      "text/plain": [
       "0.44260000000000005"
      ]
     },
     "execution_count": 14,
     "metadata": {},
     "output_type": "execute_result"
    }
   ],
   "source": [
    "get_bandgap('CC')  # Get the bandgap energy of ethane"
   ]
  },
  {
   "cell_type": "markdown",
   "id": "classical-trinidad",
   "metadata": {},
   "source": [
    "## Run the Active Learning Agent\n",
    "The `CommitteeRegressor` we created also gives us the tools we need to run active learning. We can definte a query strategy, such as [UCB](https://modal-python.readthedocs.io/en/latest/content/query_strategies/Acquisition-functions.html#upper-confidence-bound), to pick the points and then use the regressor to determine which new point would be the best."
   ]
  },
  {
   "cell_type": "code",
   "execution_count": 15,
   "id": "roman-meeting",
   "metadata": {},
   "outputs": [],
   "source": [
    "committee.query_strategy = max_UCB"
   ]
  },
  {
   "cell_type": "markdown",
   "id": "central-fifteen",
   "metadata": {},
   "source": [
    "Given a list of points, it will suggest the next best point to evaluate"
   ]
  },
  {
   "cell_type": "code",
   "execution_count": 16,
   "id": "complimentary-marina",
   "metadata": {},
   "outputs": [],
   "source": [
    "point, smiles = committee.query(search_data['smiles_0'].values)"
   ]
  },
  {
   "cell_type": "code",
   "execution_count": 17,
   "id": "matched-usage",
   "metadata": {},
   "outputs": [
    {
     "name": "stdout",
     "output_type": "stream",
     "text": [
      "Selected CC1COCC1(O)CO, which is point #263 in our dataset\n"
     ]
    }
   ],
   "source": [
    "print(f'Selected {smiles[0]}, which is point #{point[0]} in our dataset')"
   ]
  },
  {
   "cell_type": "markdown",
   "id": "viral-tradition",
   "metadata": {},
   "source": [
    "We can use our Oracle to get its band gap energy"
   ]
  },
  {
   "cell_type": "code",
   "execution_count": 18,
   "id": "conscious-blank",
   "metadata": {},
   "outputs": [
    {
     "name": "stdout",
     "output_type": "stream",
     "text": [
      "CC1COCC1(O)CO has a bandgap of 0.30\n"
     ]
    }
   ],
   "source": [
    "new_bandgap = get_bandgap(smiles[0])\n",
    "print(f'{smiles[0]} has a bandgap of {new_bandgap:.2f}')"
   ]
  },
  {
   "cell_type": "markdown",
   "id": "smart-immunology",
   "metadata": {},
   "source": [
    "We can then add this to our training set and repeat the process. We will do that in a for loop to do it many times.\n",
    "\n",
    "But first, let's move the data into lists for making our coding easier"
   ]
  },
  {
   "cell_type": "code",
   "execution_count": 19,
   "id": "arctic-pendant",
   "metadata": {},
   "outputs": [],
   "source": [
    "train_X = seed_data['smiles_0'].tolist()\n",
    "train_y = seed_data['bandgap'].tolist()\n",
    "search_X = search_data['smiles_0'].tolist()"
   ]
  },
  {
   "cell_type": "code",
   "execution_count": 20,
   "id": "alternate-pulse",
   "metadata": {},
   "outputs": [
    {
     "name": "stderr",
     "output_type": "stream",
     "text": [
      "100%|██████████| 50/50 [01:59<00:00,  2.39s/it]\n"
     ]
    }
   ],
   "source": [
    "for step in tqdm(range(50)):\n",
    "    # Run the query with the AI tool\n",
    "    points, smiles = committee.query(search_X)\n",
    "    \n",
    "    # Get the value of the bandgap\n",
    "    bandgaps = [get_bandgap(s) for s in smiles]\n",
    "    \n",
    "    # Remove that value from the search space\n",
    "    search_X = np.delete(search_X, points)\n",
    "    \n",
    "    # Add it to the training set\n",
    "    train_X.extend(smiles)\n",
    "    train_y.extend(bandgaps)\n",
    "    \n",
    "    # Retrain the ensemble\n",
    "    model.fit(np.expand_dims(train_X, axis=-1), train_y)\n",
    "    \n",
    "    # Reset the active learning agent\n",
    "    committee = CommitteeRegressor(\n",
    "        model.estimators_,\n",
    "        query_strategy=max_UCB,\n",
    "    )"
   ]
  },
  {
   "cell_type": "markdown",
   "id": "studied-vitamin",
   "metadata": {},
   "source": [
    "Plot it compared to random selection"
   ]
  },
  {
   "cell_type": "code",
   "execution_count": 21,
   "id": "whole-africa",
   "metadata": {},
   "outputs": [],
   "source": [
    "# Simulate a random search by drawing a random subset\n",
    "random_selection = search_data.sample(len(train_X) - len(seed_data))\n",
    "random_y = np.concatenate([seed_data['bandgap'].values, random_selection['bandgap'].values])"
   ]
  },
  {
   "cell_type": "code",
   "execution_count": 22,
   "id": "internal-malpractice",
   "metadata": {},
   "outputs": [
    {
     "data": {
      "text/plain": [
       "<matplotlib.legend.Legend at 0x7fc9ce4a7d10>"
      ]
     },
     "execution_count": 22,
     "metadata": {},
     "output_type": "execute_result"
    },
    {
     "data": {
      "image/png": "[encoded data removed]",
      "text/plain": [
       "<Figure size 432x288 with 1 Axes>"
      ]
     },
     "metadata": {
      "needs_background": "light"
     },
     "output_type": "display_data"
    }
   ],
   "source": [
    "fig, ax = plt.subplots()\n",
    "\n",
    "ax.plot(np.maximum.accumulate(train_y), label='Active Learning')\n",
    "ax.plot(np.maximum.accumulate(seed_data['bandgap'].tolist() + random_selection['bandgap'].tolist()), label='Random')\n",
    "\n",
    "ax.set_xlim(ax.get_xlim())\n",
    "ax.plot(ax.get_xlim(), [search_data['bandgap'].max()]*2, 'k--', label='Best')\n",
    "\n",
    "ax.set_ylabel('Max Bandgap')\n",
    "ax.set_xlabel('Step')\n",
    "        \n",
    "ax.legend()"
   ]
  },
  {
   "cell_type": "markdown",
   "id": "nominated-capability",
   "metadata": {},
   "source": [
    "We can see the active learning approach tend to do better over time but that this is not guaranteed. Each time you run this notebook, it may do better or worse."
   ]
  }
 ],
 "metadata": {
  "kernelspec": {
   "display_name": "Python 3",
   "language": "python",
   "name": "python3"
  },
  "language_info": {
   "codemirror_mode": {
    "name": "ipython",
    "version": 3
   },
   "file_extension": ".py",
   "mimetype": "text/x-python",
   "name": "python",
   "nbconvert_exporter": "python",
   "pygments_lexer": "ipython3",
   "version": "3.7.9"
  }
 },
 "nbformat": 4,
 "nbformat_minor": 5
}
